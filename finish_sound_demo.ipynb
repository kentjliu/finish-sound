{
  "nbformat": 4,
  "nbformat_minor": 0,
  "metadata": {
    "colab": {
      "provenance": [],
      "gpuType": "T4"
    },
    "kernelspec": {
      "name": "python3",
      "display_name": "Python 3"
    },
    "language_info": {
      "name": "python"
    },
    "accelerator": "GPU"
  },
  "cells": [
    {
      "cell_type": "markdown",
      "source": [
        "# finish-sound Demo\n",
        "In this demo notebook, I will show you how to use the `finish-sound` package. As an example, we will train a convolutional neural network (CNN) on CIFAR-10.\n",
        "\n",
        "NOTE: using the `%%capture` will not play the sound for that cell!"
      ],
      "metadata": {
        "id": "hkewKnvYSuKc"
      }
    },
    {
      "cell_type": "markdown",
      "source": [
        "## Setup finish-sound"
      ],
      "metadata": {
        "id": "uvOHUVWsTSxH"
      }
    },
    {
      "cell_type": "code",
      "source": [
        "%%capture\n",
        "!pip install finish-sound"
      ],
      "metadata": {
        "id": "V9pNWEfP2-hI"
      },
      "execution_count": null,
      "outputs": []
    },
    {
      "cell_type": "code",
      "source": [
        "from finish_sound import play_finish_sound_notebook # use play_finish_sound_notebook since we are in Colab"
      ],
      "metadata": {
        "id": "lC1ek_L31Q8_"
      },
      "execution_count": null,
      "outputs": []
    },
    {
      "cell_type": "markdown",
      "source": [
        "# Setup ResNet\n",
        "\n",
        "We import the CIFAR dataset, and train a simple convolutional neural network (CNN) to classify it.\n",
        "\n",
        "Importing torch takes a while, so now is a handy time to play the sound."
      ],
      "metadata": {
        "id": "VIARz1xkThg2"
      }
    },
    {
      "cell_type": "code",
      "source": [
        "import torch\n",
        "import torchvision\n",
        "import torchvision.transforms as transforms\n",
        "import torch.nn as nn\n",
        "import torch.nn.functional as F\n",
        "import torch.optim as optim\n",
        "\n",
        "play_finish_sound_notebook()"
      ],
      "metadata": {
        "colab": {
          "base_uri": "https://localhost:8080/",
          "height": 75
        },
        "id": "PINkr9O2Tfwv",
        "outputId": "e5672a84-1cb1-44fb-e0da-f4e81880b0cd"
      },
      "execution_count": null,
      "outputs": [
        {
          "output_type": "display_data",
          "data": {
            "text/plain": [
              "<IPython.lib.display.Audio object>"
            ],
            "text/html": [
              "\n",
              "                <audio  controls=\"controls\" >\n",
              "                    <source src=\"data:audio/mpeg;base64,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\" type=\"audio/mpeg\" />\n",
              "                    Your browser does not support the audio element.\n",
              "                </audio>\n",
              "              "
            ]
          },
          "metadata": {}
        },
        {
          "output_type": "display_data",
          "data": {
            "text/plain": [
              "<IPython.core.display.Javascript object>"
            ],
            "application/javascript": [
              "document.querySelector(\"audio\").play()"
            ]
          },
          "metadata": {}
        }
      ]
    },
    {
      "cell_type": "markdown",
      "source": [
        "**Reminder:** set the runtime type to \"GPU\", or your code will run much more slowly on a CPU."
      ],
      "metadata": {
        "id": "Ap3Rkk7oToIN"
      }
    },
    {
      "cell_type": "code",
      "source": [
        "if torch.cuda.is_available():\n",
        "    device = torch.device('cuda')\n",
        "else:\n",
        "    device = torch.device('cpu')\n",
        "\n",
        "print(device)"
      ],
      "metadata": {
        "colab": {
          "base_uri": "https://localhost:8080/"
        },
        "id": "ntT0lX29TSV2",
        "outputId": "2f47ad27-f64a-4195-d4f1-44b4d61c382c"
      },
      "execution_count": null,
      "outputs": [
        {
          "output_type": "stream",
          "name": "stdout",
          "text": [
            "cuda\n"
          ]
        }
      ]
    },
    {
      "cell_type": "markdown",
      "source": [
        "Load training and test data from the CIFAR10 dataset. This takes a while so we'll play our sound to let us know when we're done."
      ],
      "metadata": {
        "id": "L2sJCh66Tv0k"
      }
    },
    {
      "cell_type": "code",
      "source": [
        "transform = transforms.Compose(\n",
        "    [transforms.ToTensor(),\n",
        "     transforms.Normalize((0.5, 0.5, 0.5), (0.5, 0.5, 0.5))])\n",
        "\n",
        "trainset = torchvision.datasets.CIFAR10(root='./data', train=True,\n",
        "                                        download=True, transform=transform)\n",
        "trainloader = torch.utils.data.DataLoader(trainset, batch_size=4,\n",
        "                                          shuffle=True, num_workers=2)\n",
        "\n",
        "testset = torchvision.datasets.CIFAR10(root='./data', train=False,\n",
        "                                       download=True, transform=transform)\n",
        "testloader = torch.utils.data.DataLoader(testset, batch_size=4,\n",
        "                                         shuffle=False, num_workers=2)\n",
        "\n",
        "play_finish_sound_notebook()"
      ],
      "metadata": {
        "id": "0HKE_5rcTwfP"
      },
      "execution_count": null,
      "outputs": []
    },
    {
      "cell_type": "markdown",
      "source": [
        "Define a simple CNN that classifies CIFAR images."
      ],
      "metadata": {
        "id": "rhgQv35bT2E9"
      }
    },
    {
      "cell_type": "code",
      "source": [
        "class Net(nn.Module):\n",
        "    def __init__(self):\n",
        "        super(Net, self).__init__()\n",
        "        self.conv1 = nn.Conv2d(3, 6, 5, bias=False)\n",
        "        self.pool = nn.MaxPool2d(2, 2)\n",
        "        self.conv2 = nn.Conv2d(6, 16, 5, bias=False)\n",
        "        self.fc1 = nn.Linear(16 * 5 * 5, 120, bias=False)\n",
        "        self.fc2 = nn.Linear(120, 84, bias=False)\n",
        "        self.fc3 = nn.Linear(84, 10, bias=False)\n",
        "\n",
        "    def forward(self, x: torch.Tensor) -> torch.Tensor:\n",
        "        x = self.pool(F.relu(self.conv1(x)))\n",
        "        x = self.pool(F.relu(self.conv2(x)))\n",
        "        x = x.view(-1, 16 * 5 * 5)\n",
        "        x = F.relu(self.fc1(x))\n",
        "        x = F.relu(self.fc2(x))\n",
        "        x = self.fc3(x)\n",
        "        return x\n",
        "\n",
        "net = Net().to(device)"
      ],
      "metadata": {
        "id": "2KKVhEnkT2Uv"
      },
      "execution_count": null,
      "outputs": []
    },
    {
      "cell_type": "markdown",
      "source": [
        "Train this CNN on the training dataset. This may take a few moments, so our `play_finish_sound_notebook` will come in handy."
      ],
      "metadata": {
        "id": "Q-pnyDrET3l9"
      }
    },
    {
      "cell_type": "code",
      "source": [
        "from torch.utils.data import DataLoader\n",
        "\n",
        "def train(model: nn.Module, dataloader: DataLoader):\n",
        "    criterion = nn.CrossEntropyLoss()\n",
        "    optimizer = optim.SGD(model.parameters(), lr=0.001, momentum=0.9)\n",
        "\n",
        "    for epoch in range(2):  # loop over the dataset multiple times\n",
        "\n",
        "        running_loss = 0.0\n",
        "        for i, data in enumerate(dataloader, 0):\n",
        "            # get the inputs; data is a list of [inputs, labels]\n",
        "            inputs, labels = data\n",
        "\n",
        "            inputs = inputs.to(device)\n",
        "            labels = labels.to(device)\n",
        "\n",
        "            # zero the parameter gradients\n",
        "            optimizer.zero_grad()\n",
        "\n",
        "            # forward + backward + optimize\n",
        "            outputs = model(inputs)\n",
        "            loss = criterion(outputs, labels)\n",
        "            loss.backward()\n",
        "            optimizer.step()\n",
        "\n",
        "            # print statistics\n",
        "            running_loss += loss.item()\n",
        "            if i % 2000 == 1999:    # print every 2000 mini-batches\n",
        "                print('[%d, %5d] loss: %.3f' %\n",
        "                    (epoch + 1, i + 1, running_loss / 2000))\n",
        "                running_loss = 0.0\n",
        "\n",
        "    print('Finished Training')\n",
        "\n",
        "def test(model: nn.Module, dataloader: DataLoader, max_samples=None) -> float:\n",
        "    correct = 0\n",
        "    total = 0\n",
        "    n_inferences = 0\n",
        "\n",
        "    with torch.no_grad():\n",
        "        for data in dataloader:\n",
        "            images, labels = data\n",
        "\n",
        "            images = images.to(device)\n",
        "            labels = labels.to(device)\n",
        "\n",
        "            outputs = model(images)\n",
        "            _, predicted = torch.max(outputs.data, 1)\n",
        "            total += labels.size(0)\n",
        "            correct += (predicted == labels).sum().item()\n",
        "\n",
        "            if max_samples:\n",
        "                n_inferences += images.shape[0]\n",
        "                if n_inferences > max_samples:\n",
        "                    break\n",
        "\n",
        "    return 100 * correct / total"
      ],
      "metadata": {
        "id": "4sHLC9S3QH1e"
      },
      "execution_count": null,
      "outputs": []
    },
    {
      "cell_type": "code",
      "source": [
        "train(net, trainloader)\n",
        "play_finish_sound_notebook()"
      ],
      "metadata": {
        "id": "oCTZI49hUCMb"
      },
      "execution_count": null,
      "outputs": []
    },
    {
      "cell_type": "markdown",
      "source": [
        "Now that the CNN has been trained, let's test it on our test dataset. (Another great time to use our package!)"
      ],
      "metadata": {
        "id": "YmuwyIyIUI7Z"
      }
    },
    {
      "cell_type": "code",
      "source": [
        "score = test(net, testloader)\n",
        "print('Accuracy of the network on the test images: {}%'.format(score))\n",
        "play_finish_sound_notebook()"
      ],
      "metadata": {
        "id": "5Ou88FaPUJQe"
      },
      "execution_count": null,
      "outputs": []
    }
  ]
}